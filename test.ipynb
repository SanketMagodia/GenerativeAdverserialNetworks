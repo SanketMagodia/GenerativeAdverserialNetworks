{
 "cells": [
  {
   "cell_type": "code",
   "execution_count": 1,
   "metadata": {},
   "outputs": [],
   "source": [
    "import torch\n",
    "import hyperParams as params\n",
    "import dataset\n",
    "import torchvision.transforms as transforms\n",
    "import torch.nn as nn\n",
    "import torch.optim as optim\n",
    "import torchvision\n",
    "from torchvision.utils import save_image"
   ]
  },
  {
   "cell_type": "code",
   "execution_count": 2,
   "metadata": {},
   "outputs": [],
   "source": [
    "class Generator(nn.Module):\n",
    "        def __init__(self):\n",
    "            super(Generator, self).__init__()\n",
    "            self.conv_transpose1 = nn.ConvTranspose2d(params.latent_size, 64*16, kernel_size=4, stride=1, padding=0, bias=False)\n",
    "            self.bn1 = nn.BatchNorm2d(64*16)\n",
    "            self.relu1 = nn.ReLU()\n",
    "            self.conv_transpose2 = nn.ConvTranspose2d(64*16, 64*8, kernel_size=4, stride=2, padding=1, bias=False)\n",
    "            self.bn2 = nn.BatchNorm2d(64*8)\n",
    "            self.relu2 = nn.ReLU()\n",
    "            self.conv_transpose3 = nn.ConvTranspose2d(64*8, 64*4, kernel_size=4, stride=2, padding=1, bias=False)\n",
    "            self.bn3 = nn.BatchNorm2d(64*4)\n",
    "            self.relu3 = nn.ReLU()\n",
    "            self.conv_transpose4 = nn.ConvTranspose2d(64*4, 64*2, kernel_size=4, stride=2, padding=1, bias=False)\n",
    "            self.bn4 = nn.BatchNorm2d(64*2)\n",
    "            self.relu4 = nn.ReLU()\n",
    "            self.conv_transpose5 = nn.ConvTranspose2d(64*2, 3, kernel_size=4, stride=2, padding=1, bias=False)\n",
    "            self.tanh = nn.Tanh()\n",
    "\n",
    "        def forward(self, input):\n",
    "            x = self.relu1(self.bn1(self.conv_transpose1(input)))\n",
    "            x = self.relu2(self.bn2(self.conv_transpose2(x)))\n",
    "            x = self.relu3(self.bn3(self.conv_transpose3(x)))\n",
    "            x = self.relu4(self.bn4(self.conv_transpose4(x)))\n",
    "            x = self.tanh(self.conv_transpose5(x))\n",
    "            return x\n",
    "    "
   ]
  },
  {
   "cell_type": "code",
   "execution_count": 3,
   "metadata": {},
   "outputs": [
    {
     "data": {
      "text/plain": [
       "<All keys matched successfully>"
      ]
     },
     "execution_count": 3,
     "metadata": {},
     "output_type": "execute_result"
    }
   ],
   "source": [
    "model_path = \"models/generator_model_901.pth\"\n",
    "generator = Generator()  # Instantiate your generator model class\n",
    "generator.load_state_dict(torch.load(model_path))"
   ]
  },
  {
   "cell_type": "code",
   "execution_count": 4,
   "metadata": {},
   "outputs": [],
   "source": [
    "transform = transforms.Compose([\n",
    "    transforms.Resize((params.imgL, params.imgW)),\n",
    "    # transforms.CenterCrop((params.imgL, params.imgW)),\n",
    "    transforms.ToTensor(),\n",
    "    transforms.Normalize((0.5,0.5,0.5), (0.5, 0.5, 0.5))\n",
    "])"
   ]
  },
  {
   "cell_type": "code",
   "execution_count": 23,
   "metadata": {},
   "outputs": [],
   "source": [
    "\n",
    "# Convert the generated image tensor to a PIL image\n"
   ]
  },
  {
   "cell_type": "code",
   "execution_count": 23,
   "metadata": {},
   "outputs": [
    {
     "name": "stderr",
     "output_type": "stream",
     "text": [
      "Clipping input data to the valid range for imshow with RGB data ([0..1] for floats or [0..255] for integers).\n"
     ]
    },
    {
     "data": {
      "image/png": "[encoded data removed]",
      "text/plain": [
       "<Figure size 640x480 with 1 Axes>"
      ]
     },
     "metadata": {},
     "output_type": "display_data"
    }
   ],
   "source": [
    "import matplotlib.pyplot as plt\n",
    "transform = transforms.ToPILImage()\n",
    "noise = torch.randn(1, 128, 1, 1)\n",
    "\n",
    "# Generate image using the generator\n",
    "with torch.no_grad():\n",
    "    generated_image = generator(noise)\n",
    "\n",
    "# Convert the image tensor to a PIL image\n",
    "image_pil = generated_image.squeeze(0).permute(1, 2, 0).numpy() # Squeeze to remove batch dimension if present\n",
    "\n",
    "# Display the image\n",
    "plt.imshow(image_pil)\n",
    "plt.axis('off')\n",
    "plt.show()"
   ]
  },
  {
   "cell_type": "code",
   "execution_count": 46,
   "metadata": {},
   "outputs": [
    {
     "data": {
      "image/png": "[encoded data removed]",
      "text/plain": [
       "<Figure size 500x500 with 1 Axes>"
      ]
     },
     "metadata": {},
     "output_type": "display_data"
    }
   ],
   "source": [
    "fixed_noise = torch.randn(1, 128, 1, 1)\n",
    "Bfake = generator(fixed_noise)\n",
    "\n",
    "grid_img = torchvision.utils.make_grid(Bfake[:1], normalize=True)\n",
    "grid_img_np = grid_img.numpy()\n",
    "\n",
    "# Transpose the array to match matplotlib's format\n",
    "grid_img_np = grid_img_np.transpose((1, 2, 0))\n",
    "\n",
    "# Display the grid image\n",
    "plt.figure(figsize=(5,5))\n",
    "plt.imshow(grid_img_np)\n",
    "plt.axis('off')  # Turn off axis\n",
    "plt.show()\n"
   ]
  },
  {
   "cell_type": "code",
   "execution_count": 47,
   "metadata": {},
   "outputs": [
    {
     "data": {
      "text/plain": [
       "True"
      ]
     },
     "execution_count": 47,
     "metadata": {},
     "output_type": "execute_result"
    }
   ],
   "source": [
    "import cv2\n",
    "import numpy as np\n",
    "\n",
    "# Assuming img_np is your 64x64x3 NumPy array\n",
    "# img_np = grid_img_np  # Your NumPy array\n",
    "img_np = (grid_img_np * 255).astype(np.uint8)\n",
    "# Upscale the image using OpenCV\n",
    "upscaled_img = cv2.resize(img_np, (2160, 4096 ), interpolation=cv2.INTER_LINEAR)\n",
    "\n",
    "# Flatten the upscaled image into a vector\n",
    "# vectorized_img = upscaled_img.reshape(-1, 3)\n",
    "cv2.imwrite('output_contour_image.jpg', upscaled_img)\n",
    "# Display the vectorized image\n",
    "# print(vectorized_img.shape)"
   ]
  },
  {
   "cell_type": "markdown",
   "metadata": {},
   "source": []
  },
  {
   "cell_type": "code",
   "execution_count": 76,
   "metadata": {},
   "outputs": [],
   "source": [
    "from PIL import Image, ImageEnhance\n",
    "import numpy as np\n",
    "\n",
    "def posterize_channel(channel, num_colors):\n",
    "    quantized_values = np.linspace(0, 255, num_colors)\n",
    "    return np.uint8(np.digitize(channel, quantized_values) * (255 / num_colors))\n",
    "\n",
    "# Load an image\n",
    "input_image = Image.open('output_contour_image.jpg')\n",
    "\n",
    "# Convert the image to RGB mode\n",
    "input_image = input_image.convert('RGB')\n",
    "\n",
    "# Split the image into RGB channels\n",
    "r, g, b = input_image.split()\n",
    "\n",
    "# Posterize each channel with specified number of colors\n",
    "num_colors_red = 10\n",
    "num_colors_green = 5\n",
    "num_colors_blue = 5\n",
    "\n",
    "posterized_r = posterize_channel(np.array(r), num_colors_red)\n",
    "posterized_g = posterize_channel(np.array(g), num_colors_green)\n",
    "posterized_b = posterize_channel(np.array(b), num_colors_blue)\n",
    "\n",
    "# Combine the posterized channels back into a single image\n",
    "merged_array = np.dstack((posterized_r, posterized_g, posterized_b))\n",
    "posterized_image = Image.fromarray(merged_array.astype(np.uint8))\n",
    "\n",
    "# Enhance the color saturation\n",
    "enhancer = ImageEnhance.Color(posterized_image)\n",
    "boosted_image = enhancer.enhance(2.0)  # Increase the saturation by a factor of 2.0\n",
    "\n",
    "# Enhance the contrast\n",
    "enhancer = ImageEnhance.Contrast(boosted_image)\n",
    "high_contrast_image = enhancer.enhance(2.0)  # Increase the contrast by a factor of 2.0\n",
    "\n",
    "# Save or display the boosted and contrast-enhanced image\n",
    "high_contrast_image.save('output_boosted_image.jpg')\n",
    "# Or display it using high_contrast_image.show()\n"
   ]
  },
  {
   "cell_type": "code",
   "execution_count": 71,
   "metadata": {},
   "outputs": [
    {
     "data": {
      "text/plain": [
       "(4096, 2160, 9)"
      ]
     },
     "execution_count": 71,
     "metadata": {},
     "output_type": "execute_result"
    }
   ],
   "source": [
    "merged_array.shape"
   ]
  },
  {
   "cell_type": "code",
   "execution_count": null,
   "metadata": {},
   "outputs": [],
   "source": []
  }
 ],
 "metadata": {
  "kernelspec": {
   "display_name": "Python 3",
   "language": "python",
   "name": "python3"
  },
  "language_info": {
   "codemirror_mode": {
    "name": "ipython",
    "version": 3
   },
   "file_extension": ".py",
   "mimetype": "text/x-python",
   "name": "python",
   "nbconvert_exporter": "python",
   "pygments_lexer": "ipython3",
   "version": "3.10.11"
  }
 },
 "nbformat": 4,
 "nbformat_minor": 2
}
